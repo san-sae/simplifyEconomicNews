{
 "cells": [
  {
   "cell_type": "code",
   "execution_count": 7,
   "id": "8eead422",
   "metadata": {
    "scrolled": true
   },
   "outputs": [],
   "source": [
    "from tokenizers import ByteLevelBPETokenizer"
   ]
  },
  {
   "cell_type": "code",
   "execution_count": 6,
   "id": "3739d6db",
   "metadata": {},
   "outputs": [
    {
     "name": "stdout",
     "output_type": "stream",
     "text": [
      "Error decoding NWRW1800000016.json: Expecting value: line 1 column 1 (char 0)\n",
      "Error decoding NWRW1800000022.json: Expecting value: line 1 column 1 (char 0)\n",
      "Error decoding NWRW1800000026.json: Expecting value: line 1 column 1 (char 0)\n",
      "Error decoding NPRW1900000065.json: Expecting value: line 1 column 1 (char 0)\n",
      "Error decoding NWRW1800000001.json: Expecting value: line 1 column 1 (char 0)\n",
      "Error decoding NPRW1900000061.json: Expecting value: line 1 column 1 (char 0)\n",
      "Error decoding NWRW1800000025.json: Expecting value: line 1 column 1 (char 0)\n",
      "Error decoding NWRW1800000006.json: Expecting value: line 1 column 1 (char 0)\n",
      "Error decoding NWRW1800000008.json: Expecting value: line 1 column 1 (char 0)\n",
      "Error decoding NWRW1800000010.json: Expecting value: line 1 column 1 (char 0)\n",
      "Error decoding NWRW1800000029.json: Expecting value: line 1 column 1 (char 0)\n",
      "Error decoding NPRW1900000068.json: Expecting value: line 1 column 1 (char 0)\n",
      "Error decoding NWRW1800000002.json: Expecting value: line 1 column 1 (char 0)\n",
      "Error decoding NWRW1800000012.json: Expecting value: line 1 column 1 (char 0)\n",
      "Error decoding NWRW1800000018.json: Expecting value: line 1 column 1 (char 0)\n",
      "Error decoding NPRW1900000063.json: Expecting value: line 1 column 1 (char 0)\n",
      "Error decoding NPRW1900000069.json: Expecting value: line 1 column 1 (char 0)\n",
      "Error decoding NWRW1800000030.json: Expecting value: line 1 column 1 (char 0)\n",
      "Error decoding NPRW1900000059.json: Expecting value: line 1 column 1 (char 0)\n",
      "Error decoding NWRW1800000009.json: Expecting value: line 1 column 1 (char 0)\n",
      "Error decoding NPRW1900000060.json: Expecting value: line 1 column 1 (char 0)\n",
      "Error decoding NWRW1800000028.json: Expecting value: line 1 column 1 (char 0)\n",
      "Error decoding NWRW1800000004.json: Expecting value: line 1 column 1 (char 0)\n",
      "Error decoding NPRW1900000062.json: Expecting value: line 1 column 1 (char 0)\n",
      "Error decoding NWRW1800000020.json: Expecting value: line 1 column 1 (char 0)\n",
      "Error decoding NWRW1800000017.json: Expecting value: line 1 column 1 (char 0)\n",
      "Error decoding NWRW1800000021.json: Expecting value: line 1 column 1 (char 0)\n",
      "Error decoding NWRW1800000034.json: Expecting value: line 1 column 1 (char 0)\n",
      "Error decoding NPRW1900000066.json: Expecting value: line 1 column 1 (char 0)\n",
      "Error decoding NWRW1800000013.json: Expecting value: line 1 column 1 (char 0)\n",
      "Error decoding NWRW1800000037.json: Expecting value: line 1 column 1 (char 0)\n",
      "Error decoding NPRW1900000058.json: Expecting ',' delimiter: line 46414 column 12 (char 2555491)\n",
      "Error decoding NPRW1900000064.json: Expecting value: line 1 column 1 (char 0)\n",
      "Error decoding NWRW1800000042.json: Expecting value: line 1 column 1 (char 0)\n",
      "Error decoding NWRW1800000036.json: Expecting value: line 1 column 1 (char 0)\n",
      "Error decoding NPRW1900000070.json: Expecting value: line 1 column 1 (char 0)\n",
      "Error decoding NWRW1800000038.json: Expecting value: line 1 column 1 (char 0)\n",
      "Error decoding NWRW1800000014.json: Expecting value: line 1 column 1 (char 0)\n",
      "Error decoding NWRW1800000024.json: Expecting value: line 1 column 1 (char 0)\n",
      "Error decoding NWRW1800000005.json: Expecting value: line 1 column 1 (char 0)\n",
      "Error decoding NPRW1900000067.json: Expecting value: line 1 column 1 (char 0)\n",
      "Error decoding NWRW1800000033.json: Expecting value: line 1 column 1 (char 0)\n",
      "Filtered data saved to ./filtered_data.json\n"
     ]
    }
   ],
   "source": [
    "import os\n",
    "import json\n",
    "\n",
    "input_dir = \"./raw_data\"\n",
    "output_file = \"./filtered_data.json\"\n",
    "\n",
    "filtered_data = []\n",
    "\n",
    "# raw_data 디렉터리 내 모든 파일 탐색\n",
    "for filename in os.listdir(input_dir):\n",
    "    if filename.endswith(\".json\"):  # JSON 파일만 처리\n",
    "        file_path = os.path.join(input_dir, filename)\n",
    "        \n",
    "        with open(file_path, \"r\", encoding=\"utf-8\") as file:\n",
    "            try:\n",
    "                data = json.load(file)  # JSON 파일 읽기\n",
    "                \n",
    "                # \"document\" 리스트에서 topic 또는 original_topic이 \"경제\"인 경우 필터링\n",
    "                for doc in data.get(\"document\", []):\n",
    "                    topic = doc[\"metadata\"].get(\"topic\")\n",
    "                    original_topic = doc[\"metadata\"].get(\"original_topic\")\n",
    "                    \n",
    "                    if topic == \"경제\" or original_topic == \"경제\":\n",
    "                        filtered_data.append(doc)\n",
    "            \n",
    "            except json.JSONDecodeError as e:\n",
    "                print(f\"Error decoding {filename}: {e}\")\n",
    "\n",
    "# 필터링된 데이터를 하나의 JSON 파일로 저장\n",
    "with open(output_file, \"w\", encoding=\"utf-8\") as outfile:\n",
    "    json.dump(filtered_data, outfile, ensure_ascii=False, indent=4)\n",
    "\n",
    "print(f\"Filtered data saved to {output_file}\")\n",
    "\n"
   ]
  },
  {
   "cell_type": "code",
   "execution_count": 7,
   "id": "d61a87c6",
   "metadata": {},
   "outputs": [],
   "source": [
    "import json\n",
    "\n",
    "# JSON 데이터 로드\n",
    "with open('filtered_data.json', 'r', encoding='utf-8') as f:\n",
    "    data = json.load(f)\n",
    "\n",
    "# 'form' 값 추출\n",
    "form_texts = []\n",
    "for article in data:\n",
    "    for paragraph in article['paragraph']:\n",
    "        form_texts.append(paragraph['form'])\n",
    "\n",
    "# 추출한 'form' 값을 .txt 파일로 저장\n",
    "with open('output.txt', 'w', encoding='utf-8') as f:\n",
    "    for text in form_texts:\n",
    "        f.write(text + '\\n')\n",
    "\n",
    "    "
   ]
  },
  {
   "cell_type": "code",
   "execution_count": 8,
   "id": "5e90f9b3",
   "metadata": {},
   "outputs": [
    {
     "name": "stdout",
     "output_type": "stream",
     "text": [
      "Filtered text saved to result.txt\n"
     ]
    }
   ],
   "source": [
    "# 파일 경로 설정\n",
    "input_file = 'output.txt'\n",
    "output_file = 'result.txt'\n",
    "\n",
    "# 파일 열기\n",
    "with open(input_file, 'r', encoding='utf-8') as file:\n",
    "    lines = file.readlines()\n",
    "\n",
    "# 마침표로 끝나지 않는 문장 삭제\n",
    "filtered_lines = [line for line in lines if line.strip().endswith('.')]\n",
    "\n",
    "# 결과를 새로운 파일로 저장\n",
    "with open(output_file, 'w', encoding='utf-8') as file:\n",
    "    file.writelines(filtered_lines)\n",
    "\n",
    "print(f\"Filtered text saved to {output_file}\")\n"
   ]
  },
  {
   "cell_type": "markdown",
   "id": "c33fe255",
   "metadata": {},
   "source": [
    "#"
   ]
  },
  {
   "cell_type": "code",
   "execution_count": 1,
   "id": "2d0d75f6",
   "metadata": {},
   "outputs": [
    {
     "name": "stdout",
     "output_type": "stream",
     "text": [
      "\n",
      "\n",
      "\n"
     ]
    },
    {
     "data": {
      "text/plain": [
       "['./simplifyEconomicNews/vocab.txt']"
      ]
     },
     "execution_count": 1,
     "metadata": {},
     "output_type": "execute_result"
    }
   ],
   "source": [
    "from tokenizers import BertWordPieceTokenizer\n",
    "wordpiece_tokenizer = BertWordPieceTokenizer(lowercase=False)\n",
    "wordpiece_tokenizer.train(\n",
    "    files = [\"./data/result.txt\"],\n",
    "    vocab_size = 10000,\n",
    ")\n",
    "wordpiece_tokenizer.save_model(\"./simplifyEconomicNews\")"
   ]
  },
  {
   "cell_type": "code",
   "execution_count": null,
   "id": "4a7e73ee",
   "metadata": {},
   "outputs": [],
   "source": []
  }
 ],
 "metadata": {
  "kernelspec": {
   "display_name": "Python 3 (ipykernel)",
   "language": "python",
   "name": "python3"
  },
  "language_info": {
   "codemirror_mode": {
    "name": "ipython",
    "version": 3
   },
   "file_extension": ".py",
   "mimetype": "text/x-python",
   "name": "python",
   "nbconvert_exporter": "python",
   "pygments_lexer": "ipython3",
   "version": "3.8.10"
  }
 },
 "nbformat": 4,
 "nbformat_minor": 5
}
